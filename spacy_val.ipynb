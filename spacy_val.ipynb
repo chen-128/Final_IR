{
 "cells": [
  {
   "cell_type": "code",
   "execution_count": 1,
   "metadata": {},
   "outputs": [],
   "source": [
    "import spacy\n",
    "nlp = spacy.load(\"model-best\")"
   ]
  },
  {
   "cell_type": "code",
   "execution_count": 3,
   "metadata": {},
   "outputs": [
    {
     "name": "stderr",
     "output_type": "stream",
     "text": [
      "  0%|          | 0/560 [00:00<?, ?it/s]"
     ]
    },
    {
     "name": "stderr",
     "output_type": "stream",
     "text": [
      "100%|██████████| 560/560 [03:24<00:00,  2.73it/s]\n"
     ]
    }
   ],
   "source": [
    "import os \n",
    "from tqdm import tqdm\n",
    "\n",
    "file_dir = \"/home/r12922164/ir/final/data/val_file/\"\n",
    "file_list = sorted(os.listdir(file_dir))\n",
    "\n",
    "need_reg = [\"DATE\", \"TIME\", \"DURATION\", \"SET\"]\n",
    "\n",
    "fp = open(\"task1_answer.txt\", \"w\")\n",
    "\n",
    "for f in tqdm(file_list):\n",
    "    f_p = os.path.join(file_dir,f)\n",
    "    text = open(f_p, \"r\").read()\n",
    "    doc = nlp(text)\n",
    "    for ent in doc.ents:\n",
    "        a, b, c, d, e = f.split('.')[0], ent.label_, ent.start_char, ent.end_char, ent\n",
    "        if len(e) > 30:\n",
    "            continue\n",
    "        string = f\"{e}\"\n",
    "        if '\\n' in string or '\\t' in string:\n",
    "            continue\n",
    "        if b in need_reg:\n",
    "            fp.write(f\"{a}\\t{b}\\t{c}\\t{d}\\t{e}\\tNULL\\n\")\n",
    "        else:\n",
    "            fp.write(f\"{a}\\t{b}\\t{c}\\t{d}\\t{e}\\n\")\n",
    "fp.close()\n",
    "\n",
    "    \n",
    "\n",
    "\n",
    "    "
   ]
  },
  {
   "cell_type": "code",
   "execution_count": 9,
   "metadata": {},
   "outputs": [
    {
     "data": {
      "text/html": [
       "<span class=\"tex2jax_ignore\"><div class=\"entities\" style=\"line-height: 2.5; direction: ltr\">Episode No:  \n",
       "<mark class=\"entity\" style=\"background: #ddd; padding: 0.45em 0.6em; margin: 0 0.25em; line-height: 1; border-radius: 0.35em;\">\n",
       "    70R239451A\n",
       "    <span style=\"font-size: 0.8em; font-weight: bold; line-height: 1; border-radius: 0.35em; vertical-align: middle; margin-left: 0.5rem\">IDNUM</span>\n",
       "</mark>\n",
       "</br>\n",
       "<mark class=\"entity\" style=\"background: #ddd; padding: 0.45em 0.6em; margin: 0 0.25em; line-height: 1; border-radius: 0.35em;\">\n",
       "    7062394.NEA\n",
       "    <span style=\"font-size: 0.8em; font-weight: bold; line-height: 1; border-radius: 0.35em; vertical-align: middle; margin-left: 0.5rem\">MEDICALRECORD</span>\n",
       "</mark>\n",
       "</br></br>\n",
       "<mark class=\"entity\" style=\"background: #ddd; padding: 0.45em 0.6em; margin: 0 0.25em; line-height: 1; border-radius: 0.35em;\">\n",
       "    NEGRETE, JESSIE\n",
       "    <span style=\"font-size: 0.8em; font-weight: bold; line-height: 1; border-radius: 0.35em; vertical-align: middle; margin-left: 0.5rem\">PATIENT</span>\n",
       "</mark>\n",
       " </br>Lab No:  \n",
       "<mark class=\"entity\" style=\"background: #ddd; padding: 0.45em 0.6em; margin: 0 0.25em; line-height: 1; border-radius: 0.35em;\">\n",
       "    70R23945\n",
       "    <span style=\"font-size: 0.8em; font-weight: bold; line-height: 1; border-radius: 0.35em; vertical-align: middle; margin-left: 0.5rem\">IDNUM</span>\n",
       "</mark>\n",
       "</br>\n",
       "<mark class=\"entity\" style=\"background: #ddd; padding: 0.45em 0.6em; margin: 0 0.25em; line-height: 1; border-radius: 0.35em;\">\n",
       "    Cheney Pond\n",
       "    <span style=\"font-size: 0.8em; font-weight: bold; line-height: 1; border-radius: 0.35em; vertical-align: middle; margin-left: 0.5rem\">STREET</span>\n",
       "</mark>\n",
       "</br>\n",
       "<mark class=\"entity\" style=\"background: #ddd; padding: 0.45em 0.6em; margin: 0 0.25em; line-height: 1; border-radius: 0.35em;\">\n",
       "    NARACOORTE\n",
       "    <span style=\"font-size: 0.8em; font-weight: bold; line-height: 1; border-radius: 0.35em; vertical-align: middle; margin-left: 0.5rem\">CITY</span>\n",
       "</mark>\n",
       "  \n",
       "<mark class=\"entity\" style=\"background: #ddd; padding: 0.45em 0.6em; margin: 0 0.25em; line-height: 1; border-radius: 0.35em;\">\n",
       "    WA\n",
       "    <span style=\"font-size: 0.8em; font-weight: bold; line-height: 1; border-radius: 0.35em; vertical-align: middle; margin-left: 0.5rem\">STATE</span>\n",
       "</mark>\n",
       "  \n",
       "<mark class=\"entity\" style=\"background: #ddd; padding: 0.45em 0.6em; margin: 0 0.25em; line-height: 1; border-radius: 0.35em;\">\n",
       "    2292\n",
       "    <span style=\"font-size: 0.8em; font-weight: bold; line-height: 1; border-radius: 0.35em; vertical-align: middle; margin-left: 0.5rem\">ZIP</span>\n",
       "</mark>\n",
       "</br>Specimen: Tissue</br>D.O.B:  \n",
       "<mark class=\"entity\" style=\"background: #bfe1d9; padding: 0.45em 0.6em; margin: 0 0.25em; line-height: 1; border-radius: 0.35em;\">\n",
       "    3/4/2013\n",
       "    <span style=\"font-size: 0.8em; font-weight: bold; line-height: 1; border-radius: 0.35em; vertical-align: middle; margin-left: 0.5rem\">DATE</span>\n",
       "</mark>\n",
       "</br>Sex:  M</br>Collected: \n",
       "<mark class=\"entity\" style=\"background: #bfe1d9; padding: 0.45em 0.6em; margin: 0 0.25em; line-height: 1; border-radius: 0.35em;\">\n",
       "    25/11/2063\n",
       "    <span style=\"font-size: 0.8em; font-weight: bold; line-height: 1; border-radius: 0.35em; vertical-align: middle; margin-left: 0.5rem\">DATE</span>\n",
       "</mark>\n",
       " at :</br>Location:  \n",
       "<mark class=\"entity\" style=\"background: #ddd; padding: 0.45em 0.6em; margin: 0 0.25em; line-height: 1; border-radius: 0.35em;\">\n",
       "    CARDIOTHORACIC ICU\n",
       "    <span style=\"font-size: 0.8em; font-weight: bold; line-height: 1; border-radius: 0.35em; vertical-align: middle; margin-left: 0.5rem\">DEPARTMENT</span>\n",
       "</mark>\n",
       "-\n",
       "<mark class=\"entity\" style=\"background: #ddd; padding: 0.45em 0.6em; margin: 0 0.25em; line-height: 1; border-radius: 0.35em;\">\n",
       "    HERVEY BAY HOSPITAL\n",
       "    <span style=\"font-size: 0.8em; font-weight: bold; line-height: 1; border-radius: 0.35em; vertical-align: middle; margin-left: 0.5rem\">HOSPITAL</span>\n",
       "</mark>\n",
       "</br>DR \n",
       "<mark class=\"entity\" style=\"background: #ddd; padding: 0.45em 0.6em; margin: 0 0.25em; line-height: 1; border-radius: 0.35em;\">\n",
       "    Sandy Neal Moorer\n",
       "    <span style=\"font-size: 0.8em; font-weight: bold; line-height: 1; border-radius: 0.35em; vertical-align: middle; margin-left: 0.5rem\">DOCTOR</span>\n",
       "</mark>\n",
       "</br>Distribution:   FILE-COPY</br></br>CLINICAL:</br>Soft palate lesion.  SCC soft palate.  Otherwise healthy.  Left palate SCC suture superior.</br>MACROSCOPIC:</br>A.  Specimen labelled &quot;Superior left palatal&quot; consists of an ellipse of mucosa 11 x 8 x 2mm.  BAE for frozensection.</br>B.  Specimen labelled &quot;Inferior left palatal&quot; consists of a piece of tissue 15 x 2 x 1mm.  No definite mucosal surface is seen.  AE for frozen section.</br>C.  Specimen labelled &quot;Left lateral margin palatal&quot; consists of a piece of tissue 9 x 6 x 2mm.  AE for frozen section.</br>D.  Specimen labelled &quot;Left palate SCC stitch superior&quot; consists of a red shaped resection bearing mucosa measuring 50 x 28 x 17mm.  There is a suture marking superior margin.  The uvula is identified at the medial side.  The medial margin is inked blue and lateral margin is inked black.  There is an ulcerated mucosal area 14 x 12mm.</br>Blocks:  1 to 3 - the lateral margin; 4 to 7 - TS section with superior margin; 8 to 10- the medial margin.  AE.  Please see the diagram.</br>E.  Specimen labelled &quot;Left palatal medial margin frozen section received in formalin&quot; consists of an unorientated piece of solid tissue bearing mucosa 12 x 7 x4mm.  Specimen is trisected.</br>Blocks:  1 - the two ends; 2 - the middle section.  AE.</br>F.  Specimen labelled &quot;Deep margin left palatal frozen section received in formalin&quot; consists of an unorientated piece of solid tissue 15 x 5 x 2mm.  There appears to be a narrowing of mucosa 7 x 2mm.  AE 1 block.</br>Please note specimens D to F were received on the \n",
       "<mark class=\"entity\" style=\"background: #bfe1d9; padding: 0.45em 0.6em; margin: 0 0.25em; line-height: 1; border-radius: 0.35em;\">\n",
       "    26th of November in formalin.\n",
       "    <span style=\"font-size: 0.8em; font-weight: bold; line-height: 1; border-radius: 0.35em; vertical-align: middle; margin-left: 0.5rem\">DATE</span>\n",
       "</mark>\n",
       "</br>FROZEN SECTION REPORT:</br>No evidence of malignancy x3.  Result to Dr \n",
       "<mark class=\"entity\" style=\"background: #ddd; padding: 0.45em 0.6em; margin: 0 0.25em; line-height: 1; border-radius: 0.35em;\">\n",
       "    T. Dyal\n",
       "    <span style=\"font-size: 0.8em; font-weight: bold; line-height: 1; border-radius: 0.35em; vertical-align: middle; margin-left: 0.5rem\">DOCTOR</span>\n",
       "</mark>\n",
       " by Dr \n",
       "<mark class=\"entity\" style=\"background: #ddd; padding: 0.45em 0.6em; margin: 0 0.25em; line-height: 1; border-radius: 0.35em;\">\n",
       "    Gaylord Steinger\n",
       "    <span style=\"font-size: 0.8em; font-weight: bold; line-height: 1; border-radius: 0.35em; vertical-align: middle; margin-left: 0.5rem\">DOCTOR</span>\n",
       "</mark>\n",
       "/\n",
       "<mark class=\"entity\" style=\"background: #ddd; padding: 0.45em 0.6em; margin: 0 0.25em; line-height: 1; border-radius: 0.35em;\">\n",
       "    RUSSEL CHOPELAS\n",
       "    <span style=\"font-size: 0.8em; font-weight: bold; line-height: 1; border-radius: 0.35em; vertical-align: middle; margin-left: 0.5rem\">DOCTOR</span>\n",
       "</mark>\n",
       " at \n",
       "<mark class=\"entity\" style=\"background: #bfe1d9; padding: 0.45em 0.6em; margin: 0 0.25em; line-height: 1; border-radius: 0.35em;\">\n",
       "    16:07pm on the 23rd of September 2013\n",
       "    <span style=\"font-size: 0.8em; font-weight: bold; line-height: 1; border-radius: 0.35em; vertical-align: middle; margin-left: 0.5rem\">TIME</span>\n",
       "</mark>\n",
       ".</br>(TO: \n",
       "<mark class=\"entity\" style=\"background: #ddd; padding: 0.45em 0.6em; margin: 0 0.25em; line-height: 1; border-radius: 0.35em;\">\n",
       "    ES\n",
       "    <span style=\"font-size: 0.8em; font-weight: bold; line-height: 1; border-radius: 0.35em; vertical-align: middle; margin-left: 0.5rem\">DOCTOR</span>\n",
       "</mark>\n",
       "; \n",
       "<mark class=\"entity\" style=\"background: #ddd; padding: 0.45em 0.6em; margin: 0 0.25em; line-height: 1; border-radius: 0.35em;\">\n",
       "    TQ\n",
       "    <span style=\"font-size: 0.8em; font-weight: bold; line-height: 1; border-radius: 0.35em; vertical-align: middle; margin-left: 0.5rem\">DOCTOR</span>\n",
       "</mark>\n",
       "/rt \n",
       "<mark class=\"entity\" style=\"background: #bfe1d9; padding: 0.45em 0.6em; margin: 0 0.25em; line-height: 1; border-radius: 0.35em;\">\n",
       "    26.11.63\n",
       "    <span style=\"font-size: 0.8em; font-weight: bold; line-height: 1; border-radius: 0.35em; vertical-align: middle; margin-left: 0.5rem\">DATE</span>\n",
       "</mark>\n",
       ")</br>MICROSCOPIC (Reported by Dr \n",
       "<mark class=\"entity\" style=\"background: #ddd; padding: 0.45em 0.6em; margin: 0 0.25em; line-height: 1; border-radius: 0.35em;\">\n",
       "    T Sarp\n",
       "    <span style=\"font-size: 0.8em; font-weight: bold; line-height: 1; border-radius: 0.35em; vertical-align: middle; margin-left: 0.5rem\">DOCTOR</span>\n",
       "</mark>\n",
       "):</br>A to C. Sections shows skeletal muscle and mucous glands with no evidence of malignancy.</br>D. Sections of the soft palate show a 15mm poorly differentiated squamous cell carcinoma, invading skeletal muscle up to a depth of 3.5 mm.</br>The lesion is 3 mm from the medial margin (D9), 5 mm from the superior margin (D6) and is &gt; 10 mm from the lateral margin.</br>Focallymphovascular invasion is seen.  There is no evidence of perineural spread.</br>The adjacent mucosa shows focal low grade dysplasia, 2 mm clear of the nearest medial margin (D8).</br>E and F. Sections show squamous and respiratory mucosa with underlying mucous glands and skeletal muscle.  There is no evidence of dysplasia or malignancy.</br>DIAGNOSIS</br>A to C. Frozen sections superior left palatal, inferior left palatal and left lateral margin palatal: no evidence of malignancy</br>D. Left soft palate excision: poorly differentiated squamous cell carcinoma, margins clear</br>E and F. Left palatal medial margin and deep margin: no evidence of malignancy</br></br></div></span>"
      ],
      "text/plain": [
       "<IPython.core.display.HTML object>"
      ]
     },
     "metadata": {},
     "output_type": "display_data"
    }
   ],
   "source": [
    "file = \"data/val_file/250.txt\"\n",
    "\n",
    "text = open(file, \"r\").read()\n",
    "doc = nlp(text)\n",
    "from spacy import displacy\n",
    "displacy.render(doc, style=\"ent\", jupyter=True)\n"
   ]
  }
 ],
 "metadata": {
  "kernelspec": {
   "display_name": "IR",
   "language": "python",
   "name": "python3"
  },
  "language_info": {
   "codemirror_mode": {
    "name": "ipython",
    "version": 3
   },
   "file_extension": ".py",
   "mimetype": "text/x-python",
   "name": "python",
   "nbconvert_exporter": "python",
   "pygments_lexer": "ipython3",
   "version": "3.8.18"
  }
 },
 "nbformat": 4,
 "nbformat_minor": 2
}
