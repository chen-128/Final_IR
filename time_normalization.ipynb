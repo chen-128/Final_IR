{
 "cells": [
  {
   "cell_type": "code",
   "execution_count": 48,
   "metadata": {},
   "outputs": [],
   "source": [
    "with open('./task1_answer.txt', 'r') as f:\n",
    "    data = f.readlines()\n",
    "    data = [i.strip() for i in data]\n",
    "    data = [i.split('\\t') for i in data]"
   ]
  },
  {
   "cell_type": "code",
   "execution_count": 35,
   "metadata": {},
   "outputs": [
    {
     "name": "stdout",
     "output_type": "stream",
     "text": [
      "models/text-bison-001\n"
     ]
    }
   ],
   "source": [
    "import google.generativeai as palm\n",
    "'''\n",
    "from google.generativeai.types import safety_types\n",
    "\n",
    "safety_settings = [\n",
    "                    {\n",
    "                        \"category\": safety_types.HarmCategory.HARM_CATEGORY_DEROGATORY,\n",
    "                        \"threshold\": safety_types.HarmBlockThreshold.BLOCK_NONE,\n",
    "                    },\n",
    "                    {\n",
    "                        \"category\": safety_types.HarmCategory.HARM_CATEGORY_TOXICITY,\n",
    "                        \"threshold\": safety_types.HarmBlockThreshold.BLOCK_NONE,\n",
    "                    },\n",
    "                    {\n",
    "                        \"category\": safety_types.HarmCategory.HARM_CATEGORY_VIOLENCE,\n",
    "                        \"threshold\": safety_types.HarmBlockThreshold.BLOCK_NONE,\n",
    "                    },\n",
    "                    {\n",
    "                        \"category\": safety_types.HarmCategory.HARM_CATEGORY_SEXUAL,\n",
    "                        \"threshold\": safety_types.HarmBlockThreshold.BLOCK_NONE,\n",
    "                    },\n",
    "                    {\n",
    "                        \"category\": safety_types.HarmCategory.HARM_CATEGORY_MEDICAL,\n",
    "                        \"threshold\": safety_types.HarmBlockThreshold.BLOCK_NONE,\n",
    "                    },\n",
    "                    {\n",
    "                        \"category\": safety_types.HarmCategory.HARM_CATEGORY_DANGEROUS,\n",
    "                        \"threshold\": safety_types.HarmBlockThreshold.BLOCK_NONE,\n",
    "                    },\n",
    "                ]\n",
    "'''\n",
    "\n",
    "palm.configure(api_key='Enter your own key :) ')\n",
    "\n",
    "models = [m for m in palm.list_models() if 'generateText' in m.supported_generation_methods]\n",
    "model = models[0].name\n",
    "print(model)"
   ]
  },
  {
   "cell_type": "code",
   "execution_count": 36,
   "metadata": {},
   "outputs": [],
   "source": [
    "def date(text):\n",
    "    prompt = f\"\"\"\n",
    "    Given the following date, reply with the yyyy-mm-dd format.\n",
    "    Here are some examples:\n",
    "    4/3/64:  2064-03-04\n",
    "    9/3/72:  2072-03-09\n",
    "    13.2.2063:  2063-02-13\n",
    "    22.2.65:\t2065-02-22\n",
    "    11.8.67:\t2067-08-11\n",
    "    7.1665:\t1665-07\n",
    "    8/7/1997:   1997-07-08\n",
    "    2062:\t2062\n",
    "    /7/62:\t2062-07\n",
    "    29th of January 2063:\t2063-01-29\n",
    "    date: {text}\n",
    "    \"\"\"\n",
    "    response = palm.generate_text(model=model, prompt=prompt, temperature=0)#, safety_settings=safety_settings)\n",
    "    return response.result "
   ]
  },
  {
   "cell_type": "code",
   "execution_count": 37,
   "metadata": {},
   "outputs": [],
   "source": [
    "def time(text):\n",
    "    prompt = f\"\"\"\n",
    "    Given the following time, reply with the yyyy-mm-ddThh:mm:ss format.\n",
    "    Here are some examples:\n",
    "    17/7/62\t=> 2062-07-17\n",
    "    19.5.66\t=> 2066-05-19\n",
    "    3.35 pm\t=>  15:35\n",
    "    16/11/2012 at 16:43 =>\t2012-11-16T16:43\n",
    "    06/12/2012 at 12:37 =>\t2012-12-06T12:37\n",
    "    07/06/2006 at 12:10 =>\t2006-06-07T12:10\n",
    "    1300 hours on the 16th of December 2013 =>\t2013-12-16T13:00\n",
    "    4:05pm on 20.2.13 =>\t2013-02-20T16:05\n",
    "    2pm on 4/11/13 =>\t2013-11-04T14:00\n",
    "    5th of November 2013 at 10:15am =>\t2013-11-05T10:15\n",
    "    12:55 p.m. on the 12th of September 2013 =>\t2013-09-12T12:55\n",
    "    1500pm on the 28th of October 2013 =>\t2013-10-28T15:00\n",
    "    9.50am and 14/3/13 =>\t2013-03-14T09:50\n",
    "    5.20pmon 21/3/13 =>\t2013-03-21T17:20\n",
    "    2846-12-08 00:00:00 =>\t2846-12-08T00:00:00\n",
    "    {text} =>\n",
    "    \"\"\"\n",
    "    response = palm.generate_text(model=model, prompt=prompt, temperature=0)#, safety_settings=safety_settings)\n",
    "    return response.result\n"
   ]
  },
  {
   "cell_type": "code",
   "execution_count": 38,
   "metadata": {},
   "outputs": [],
   "source": [
    "def duration(text):\n",
    "    prompt = f\"\"\"\n",
    "    Given the following duration, reply with the PnYnMnDTnHnMnS format.\n",
    "    Here are some examples:\n",
    "    2 days\t=> P2D\n",
    "    1 week\t=> P1W\n",
    "    5 wks => P5W\n",
    "    1 month\t=> P1M\n",
    "    15 months\t=> P15M\n",
    "    1 year\t=> P1Y\n",
    "    2 years\t=> P2Y\n",
    "    {text} =>\n",
    "    \"\"\"\n",
    "    response = palm.generate_text(model=model, prompt=prompt, temperature=0)#, safety_settings=safety_settings)\n",
    "    return response.result"
   ]
  },
  {
   "cell_type": "code",
   "execution_count": 39,
   "metadata": {},
   "outputs": [],
   "source": [
    "def set(text):\n",
    "    prompt = f\"\"\"\n",
    "    Given the following set, reply with the set format.\n",
    "    Here are some examples:\n",
    "    twice =>\tR2\n",
    "    third =>\tR3\n",
    "    years =>\tRP1D\n",
    "    {text} =>\n",
    "    \"\"\"\n",
    "    response = palm.generate_text(model=model, prompt=prompt, temperature=0)#, safety_settings=safety_settings)\n",
    "    return response.result"
   ]
  },
  {
   "cell_type": "code",
   "execution_count": 51,
   "metadata": {},
   "outputs": [
    {
     "name": "stderr",
     "output_type": "stream",
     "text": [
      "100%|██████████| 5000/5000 [19:29<00:00,  4.27it/s] \n",
      "100%|██████████| 2420/2420 [10:20<00:00,  3.90it/s]\n"
     ]
    }
   ],
   "source": [
    "import tqdm\n",
    "\n",
    "time_class = ['DATE','TIME','DURATION','SET']\n",
    "time_anno = []\n",
    "\n",
    "for i in tqdm.tqdm(data):\n",
    "    if len(i) == 5:\n",
    "        temp = i[:5]\n",
    "    if i[1] in time_class:\n",
    "        temp = i[:5]\n",
    "        if i[1] == 'DATE':\n",
    "            temp.append(date(i[4]))\n",
    "        elif i[1] == 'TIME':\n",
    "            temp.append(time(i[4]))\n",
    "        elif i[1] == 'DURATION':\n",
    "            temp.append(duration(i[4]))\n",
    "        elif i[1] == 'SET':\n",
    "            temp.append(set(i[4]))\n",
    "    time_anno.append(temp)\n"
   ]
  },
  {
   "cell_type": "code",
   "execution_count": 61,
   "metadata": {},
   "outputs": [
    {
     "name": "stdout",
     "output_type": "stream",
     "text": [
      "0\n"
     ]
    }
   ],
   "source": [
    "#  data to txt file\n",
    "with open('./answer.txt', 'w') as f:\n",
    "    count = 0\n",
    "    for i in time_anno:\n",
    "        f.write('\\t'.join(i) + '\\n')\n",
    "print(count)"
   ]
  }
 ],
 "metadata": {
  "kernelspec": {
   "display_name": "test",
   "language": "python",
   "name": "python3"
  },
  "language_info": {
   "codemirror_mode": {
    "name": "ipython",
    "version": 3
   },
   "file_extension": ".py",
   "mimetype": "text/x-python",
   "name": "python",
   "nbconvert_exporter": "python",
   "pygments_lexer": "ipython3",
   "version": "3.8.0"
  }
 },
 "nbformat": 4,
 "nbformat_minor": 2
}
